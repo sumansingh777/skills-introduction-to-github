{
  "nbformat": 4,
  "nbformat_minor": 0,
  "metadata": {
    "colab": {
      "provenance": [],
      "toc_visible": true,
      "authorship_tag": "ABX9TyPnB2b1E5icnrWGs9Cr7643",
      "include_colab_link": true
    },
    "kernelspec": {
      "name": "python3",
      "display_name": "Python 3"
    },
    "language_info": {
      "name": "python"
    }
  },
  "cells": [
    {
      "cell_type": "markdown",
      "metadata": {
        "id": "view-in-github",
        "colab_type": "text"
      },
      "source": [
        "<a href=\"https://colab.research.google.com/github/sumansingh777/skills-introduction-to-github/blob/main/lab_assignment.ipynb\" target=\"_parent\"><img src=\"https://colab.research.google.com/assets/colab-badge.svg\" alt=\"Open In Colab\"/></a>"
      ]
    },
    {
      "cell_type": "markdown",
      "source": [
        "1. Write a Python program that uses recursion to check if a given string is a palindrome.\n",
        "A palindrome is a word, phrase, or sequence of characters that reads the same forward\n",
        "and backward.\n"
      ],
      "metadata": {
        "id": "R4PSCipS9Jge"
      }
    },
    {
      "cell_type": "code",
      "source": [
        "def is_palindrome(s):\n",
        "    # Base case: an empty string or a string with one character is always a palindrome\n",
        "    if len(s) <= 1:\n",
        "        return True\n",
        "    # Recursive case: check if the first and last characters are the same\n",
        "    elif s[0] == s[-1]:\n",
        "        # Recursively check the substring excluding the first and last characters\n",
        "        return is_palindrome(s[1:-1])\n",
        "    else:\n",
        "        # If the first and last characters are not the same, it's not a palindrome\n",
        "        return False\n",
        "\n",
        "# Example usage:\n",
        "input_string = input(\"Enter a string to check if it's a palindrome: \")\n",
        "result = is_palindrome(input_string)\n",
        "\n",
        "if result:\n",
        "    print(f\"{input_string} is a palindrome.\")\n",
        "else:\n",
        "    print(f\"{input_string} is not a palindrome.\")\n"
      ],
      "metadata": {
        "colab": {
          "base_uri": "https://localhost:8080/"
        },
        "id": "TNi4iDs-9OjG",
        "outputId": "9b78f4cd-8574-43f6-d13f-44554220dd08"
      },
      "execution_count": 7,
      "outputs": [
        {
          "output_type": "stream",
          "name": "stdout",
          "text": [
            "Enter a string to check if it's a palindrome: 6,-3,-2,3,-1,2\n",
            "6,-3,-2,3,-1,2 is not a palindrome.\n"
          ]
        }
      ]
    },
    {
      "cell_type": "markdown",
      "source": [
        "Write a python program for the Bubble sort algorithm.\n"
      ],
      "metadata": {
        "id": "5T9qQgmdAP4z"
      }
    },
    {
      "cell_type": "code",
      "source": [
        "def bubble_sort(arr):\n",
        "    n = len(arr)\n",
        "\n",
        "    # Traverse through all array elements\n",
        "    for i in range(n):\n",
        "        # Last i elements are already sorted, so we don't need to check them\n",
        "        for j in range(0, n - i - 1):\n",
        "            # Swap if the element found is greater than the next element\n",
        "            if arr[j] > arr[j + 1]:\n",
        "                arr[j], arr[j + 1] = arr[j + 1], arr[j]\n",
        "\n",
        "# Example input list\n",
        "input_list = [7, 3, 1, 8, 2, 6, 10, 4, 5, 9]\n",
        "\n",
        "# Displaying the original list\n",
        "print(\"Original List:\", input_list)\n",
        "\n",
        "# Sorting the list using Bubble Sort\n",
        "bubble_sort(input_list)\n",
        "\n",
        "# Displaying the sorted list\n",
        "print(\"Sorted List:\", input_list)\n"
      ],
      "metadata": {
        "colab": {
          "base_uri": "https://localhost:8080/"
        },
        "id": "WzYeJhXmAU8l",
        "outputId": "09fd9426-8626-4827-e2df-b48d69a29969"
      },
      "execution_count": 8,
      "outputs": [
        {
          "output_type": "stream",
          "name": "stdout",
          "text": [
            "Original List: [7, 3, 1, 8, 2, 6, 10, 4, 5, 9]\n",
            "Sorted List: [1, 2, 3, 4, 5, 6, 7, 8, 9, 10]\n"
          ]
        }
      ]
    },
    {
      "cell_type": "markdown",
      "source": [
        "3. Implement another way of sorting, where you compare A[i] with all elements having\n",
        "index greater than i. If A[i]>A[j] for any j>i, then swap(A[i], A[j])."
      ],
      "metadata": {
        "id": "DWKKJVmWBe1A"
      }
    },
    {
      "cell_type": "code",
      "source": [
        "def custom_sort(arr):\n",
        "    n = len(arr)\n",
        "\n",
        "    # Traverse through all array elements\n",
        "    for i in range(n - 1):\n",
        "        # Compare A[i] with all elements having an index greater than i\n",
        "        for j in range(i + 1, n):\n",
        "            # Swap A[i] and A[j] if A[i] is greater than A[j]\n",
        "            if arr[i] > arr[j]:\n",
        "                arr[i], arr[j] = arr[j], arr[i]\n",
        "\n",
        "# Example input list\n",
        "input_list = [7, 3, 1, 8, 2, 6, 10, 4, 5, 9]\n",
        "\n",
        "# Displaying the original list\n",
        "print(\"Original List:\", input_list)\n",
        "\n",
        "# Sorting the list using the custom sorting algorithm\n",
        "custom_sort(input_list)\n",
        "\n",
        "# Displaying the sorted list\n",
        "print(\"Sorted List:\", input_list)\n"
      ],
      "metadata": {
        "colab": {
          "base_uri": "https://localhost:8080/"
        },
        "id": "W9ZqRqbZBcoG",
        "outputId": "2494cea3-cb65-45c7-dc96-01165d2b5e82"
      },
      "execution_count": 10,
      "outputs": [
        {
          "output_type": "stream",
          "name": "stdout",
          "text": [
            "Original List: [7, 3, 1, 8, 2, 6, 10, 4, 5, 9]\n",
            "Sorted List: [1, 2, 3, 4, 5, 6, 7, 8, 9, 10]\n"
          ]
        }
      ]
    },
    {
      "cell_type": "markdown",
      "source": [
        "4. Implement the Tower of Hanoi problem using recursion. The Tower of Hanoi is a\n",
        "classic problem where you have three pegs and a number of disks of different sizes\n",
        "which can be moved from peg to peg.\n"
      ],
      "metadata": {
        "id": "wqeLBaajBky7"
      }
    },
    {
      "cell_type": "code",
      "source": [
        "def tower_of_hanoi(n, source, target, auxiliary):\n",
        "    \"\"\"\n",
        "    Solves the Tower of Hanoi problem using recursion.\n",
        "\n",
        "    Parameters:\n",
        "    - n: Number of disks\n",
        "    - source: Source peg\n",
        "    - target: Target peg\n",
        "    - auxiliary: Auxiliary peg\n",
        "    \"\"\"\n",
        "    if n == 1:\n",
        "        print(f\"Move disk 1 from {source} to {target}\")\n",
        "        return\n",
        "    else:\n",
        "        # Move n-1 disks from source to auxiliary peg\n",
        "        tower_of_hanoi(n-1, source, auxiliary, target)\n",
        "\n",
        "        # Move the nth disk from source to target peg\n",
        "        print(f\"Move disk {n} from {source} to {target}\")\n",
        "\n",
        "        # Move the n-1 disks from auxiliary peg to target peg\n",
        "        tower_of_hanoi(n-1, auxiliary, target, source)\n",
        "\n",
        "# Example: Solve Tower of Hanoi with 3 disks on pegs A, B, and C\n",
        "tower_of_hanoi(3, 'A', 'C', 'B')\n"
      ],
      "metadata": {
        "colab": {
          "base_uri": "https://localhost:8080/"
        },
        "id": "spkXYZrYBdgM",
        "outputId": "f648e8c7-e0d3-4eae-ac1d-38bc3f42ff10"
      },
      "execution_count": 11,
      "outputs": [
        {
          "output_type": "stream",
          "name": "stdout",
          "text": [
            "Move disk 1 from A to C\n",
            "Move disk 2 from A to B\n",
            "Move disk 1 from C to B\n",
            "Move disk 3 from A to C\n",
            "Move disk 1 from B to A\n",
            "Move disk 2 from B to C\n",
            "Move disk 1 from A to C\n"
          ]
        }
      ]
    },
    {
      "cell_type": "markdown",
      "source": [
        "5. Write a Python program that uses recursion to implement a power function. The\n",
        "power function should take two parameters, a base, and an exponent, and return the\n",
        "result of raising the base to the exponent.\n"
      ],
      "metadata": {
        "id": "MfNhbAAyB8K5"
      }
    },
    {
      "cell_type": "code",
      "source": [
        "def power(base, exponent):\n",
        "    \"\"\"\n",
        "    Recursively calculates the power of a base raised to an exponent.\n",
        "\n",
        "    Parameters:\n",
        "    - base: Base of the exponentiation\n",
        "    - exponent: Exponent to which the base is raised\n",
        "\n",
        "    Returns:\n",
        "    - Result of base raised to the exponent\n",
        "    \"\"\"\n",
        "    # Base case: any number raised to the power of 0 is 1\n",
        "    if exponent == 0:\n",
        "        return 1\n",
        "    # Recursive case: calculate base^(exponent-1) and multiply it by base\n",
        "    else:\n",
        "        return base * power(base, exponent - 1)\n",
        "\n",
        "# Example: Calculate 2^5\n",
        "base_value = 2\n",
        "exponent_value = 5\n",
        "result = power(base_value, exponent_value)\n",
        "print(f\"{base_value}^{exponent_value} = {result}\")\n"
      ],
      "metadata": {
        "colab": {
          "base_uri": "https://localhost:8080/"
        },
        "id": "Xo7Fq9FUBzDn",
        "outputId": "eb94d099-19a1-480c-e6df-8b71bb5d82ec"
      },
      "execution_count": 12,
      "outputs": [
        {
          "output_type": "stream",
          "name": "stdout",
          "text": [
            "2^5 = 32\n"
          ]
        }
      ]
    },
    {
      "cell_type": "markdown",
      "source": [
        "6. Write a Python program that uses the divide-and-conquer approach to implement\n",
        "binary search. The program should take a sorted list of integers as input and a target\n",
        "value, and it should return the index of the target value in the list or indicate if the\n",
        "target is not present."
      ],
      "metadata": {
        "id": "_7qV4cNvCLe1"
      }
    },
    {
      "cell_type": "code",
      "source": [
        "def binary_search(arr, target, low, high):\n",
        "    \"\"\"\n",
        "    Recursively performs binary search on a sorted list.\n",
        "\n",
        "    Parameters:\n",
        "    - arr: Sorted list of integers\n",
        "    - target: Target value to search for\n",
        "    - low: Lowest index of the current subarray\n",
        "    - high: Highest index of the current subarray\n",
        "\n",
        "    Returns:\n",
        "    - Index of the target value if found, otherwise -1\n",
        "    \"\"\"\n",
        "    # Base case: if low is greater than high, the target is not present\n",
        "    if low > high:\n",
        "        return -1\n",
        "\n",
        "    # Calculate the middle index of the current subarray\n",
        "    mid = (low + high) // 2\n",
        "\n",
        "    # Check if the target is equal to the value at the middle index\n",
        "    if arr[mid] == target:\n",
        "        return mid\n",
        "    # If the target is less than the middle value, search in the left half\n",
        "    elif target < arr[mid]:\n",
        "        return binary_search(arr, target, low, mid - 1)\n",
        "    # If the target is greater than the middle value, search in the right half\n",
        "    else:\n",
        "        return binary_search(arr, target, mid + 1, high)\n",
        "\n",
        "# Example: Perform binary search on a sorted list\n",
        "sorted_list = [1, 2, 3, 4, 5, 6, 7, 8, 9, 10]\n",
        "target_value = 6\n",
        "result = binary_search(sorted_list, target_value, 0, len(sorted_list) - 1)\n",
        "\n",
        "if result != -1:\n",
        "    print(f\"Target value {target_value} found at index {result}.\")\n",
        "else:\n",
        "    print(f\"Target value {target_value} not present in the list.\")\n"
      ],
      "metadata": {
        "colab": {
          "base_uri": "https://localhost:8080/"
        },
        "id": "5XovhTmxCJt2",
        "outputId": "c2d7dd0c-aa84-453b-d899-a56e34302fa7"
      },
      "execution_count": 13,
      "outputs": [
        {
          "output_type": "stream",
          "name": "stdout",
          "text": [
            "Target value 6 found at index 5.\n"
          ]
        }
      ]
    },
    {
      "cell_type": "markdown",
      "source": [
        "7. Write a Python program that uses the divide-and-conquer approach to find the\n",
        "maximum subarray sum in a given list of integers."
      ],
      "metadata": {
        "id": "XP1PlRYJCfPW"
      }
    },
    {
      "cell_type": "code",
      "source": [
        "def max_crossing_subarray(arr, low, mid, high):\n",
        "    \"\"\"\n",
        "    Finds the maximum subarray sum that crosses the midpoint.\n",
        "\n",
        "    Parameters:\n",
        "    - arr: List of integers\n",
        "    - low: Lowest index of the current subarray\n",
        "    - mid: Midpoint index of the current subarray\n",
        "    - high: Highest index of the current subarray\n",
        "\n",
        "    Returns:\n",
        "    - Maximum subarray sum that crosses the midpoint\n",
        "    \"\"\"\n",
        "    left_sum = float('-inf')\n",
        "    sum_left = 0\n",
        "    for i in range(mid, low - 1, -1):\n",
        "        sum_left += arr[i]\n",
        "        if sum_left > left_sum:\n",
        "            left_sum = sum_left\n",
        "\n",
        "    right_sum = float('-inf')\n",
        "    sum_right = 0\n",
        "    for i in range(mid + 1, high + 1):\n",
        "        sum_right += arr[i]\n",
        "        if sum_right > right_sum:\n",
        "            right_sum = sum_right\n",
        "\n",
        "    return left_sum + right_sum\n",
        "\n",
        "def max_subarray_sum(arr, low, high):\n",
        "    \"\"\"\n",
        "    Finds the maximum subarray sum in a given list of integers.\n",
        "\n",
        "    Parameters:\n",
        "    - arr: List of integers\n",
        "    - low: Lowest index of the current subarray\n",
        "    - high: Highest index of the current subarray\n",
        "\n",
        "    Returns:\n",
        "    - Maximum subarray sum\n",
        "    \"\"\"\n",
        "    if low == high:\n",
        "        return arr[low]\n",
        "\n",
        "    mid = (low + high) // 2\n",
        "\n",
        "    # Find the maximum subarray sum in the left, right, and crossing subarrays\n",
        "    left_sum = max_subarray_sum(arr, low, mid)\n",
        "    right_sum = max_subarray_sum(arr, mid + 1, high)\n",
        "    cross_sum = max_crossing_subarray(arr, low, mid, high)\n",
        "\n",
        "    # Return the maximum of the three sums\n",
        "    return max(left_sum, right_sum, cross_sum)\n",
        "\n",
        "# Example: Find the maximum subarray sum\n",
        "input_list = [-2, 1, -3, 4, -1, 2, 1, -5, 4]\n",
        "result = max_subarray_sum(input_list, 0, len(input_list) - 1)\n",
        "print(\"Maximum Subarray Sum:\", result)\n"
      ],
      "metadata": {
        "colab": {
          "base_uri": "https://localhost:8080/"
        },
        "id": "qWrnRTdmCWpp",
        "outputId": "20e45c7e-618c-4df7-e098-f8e4b206cdfa"
      },
      "execution_count": 14,
      "outputs": [
        {
          "output_type": "stream",
          "name": "stdout",
          "text": [
            "Maximum Subarray Sum: 6\n"
          ]
        }
      ]
    },
    {
      "cell_type": "markdown",
      "source": [
        "8. Write a Python program that uses dynamic programming for the maximum contiguous\n",
        "subarray problem"
      ],
      "metadata": {
        "id": "k97auIPRCwjm"
      }
    },
    {
      "cell_type": "code",
      "source": [
        "def max_subarray_sum(arr):\n",
        "    \"\"\"\n",
        "    Finds the maximum contiguous subarray sum using dynamic programming (Kadane's algorithm).\n",
        "\n",
        "    Parameters:\n",
        "    - arr: List of integers\n",
        "\n",
        "    Returns:\n",
        "    - Maximum contiguous subarray sum\n",
        "    \"\"\"\n",
        "    max_current = max_global = arr[0]\n",
        "\n",
        "    for num in arr[1:]:\n",
        "        max_current = max(num, max_current + num)\n",
        "        max_global = max(max_global, max_current)\n",
        "\n",
        "    return max_global\n",
        "\n",
        "# Example: Find the maximum contiguous subarray sum\n",
        "input_list = [-2, 1, -3, 4, -1, 2, 1, -5, 4]\n",
        "result = max_subarray_sum(input_list)\n",
        "print(\"Maximum Contiguous Subarray Sum:\", result)\n"
      ],
      "metadata": {
        "colab": {
          "base_uri": "https://localhost:8080/"
        },
        "id": "2-2YgzUFCury",
        "outputId": "c879ff95-52e4-44c7-c9ad-699886addb4f"
      },
      "execution_count": 18,
      "outputs": [
        {
          "output_type": "stream",
          "name": "stdout",
          "text": [
            "Maximum Contiguous Subarray Sum: 6\n"
          ]
        }
      ]
    },
    {
      "cell_type": "markdown",
      "source": [
        "9. Write a program for the maximum activity selection problem, where the starting time\n",
        "and finish time of n jobs are given as input by the user.\n"
      ],
      "metadata": {
        "id": "HN6u2ZBoDJeq"
      }
    },
    {
      "cell_type": "code",
      "source": [
        "def max_activities(start, finish):\n",
        "    \"\"\"\n",
        "    Finds the maximum set of non-overlapping activities.\n",
        "\n",
        "    Parameters:\n",
        "    - start: List of starting times of activities\n",
        "    - finish: List of finishing times of activities\n",
        "\n",
        "    Returns:\n",
        "    - List of selected activities\n",
        "    \"\"\"\n",
        "    n = len(start)\n",
        "    activities = []\n",
        "\n",
        "    # Sort activities by their finish times\n",
        "    sorted_activities = sorted(zip(finish, start))\n",
        "\n",
        "    # The first activity always gets selected\n",
        "    activities.append(sorted_activities[0])\n",
        "\n",
        "    # Consider the rest of the activities\n",
        "    for i in range(1, n):\n",
        "        # If the start time of the current activity is greater than or equal to\n",
        "        # the finish time of the previously selected activity, add it to the list\n",
        "        if sorted_activities[i][1] >= activities[-1][0]:\n",
        "            activities.append(sorted_activities[i])\n",
        "\n",
        "    return activities\n",
        "\n",
        "# Input: Get starting and finishing times from the user\n",
        "n = int(input(\"Enter the number of activities: \"))\n",
        "start_times = [int(input(f\"Enter start time for activity {i + 1}: \")) for i in range(n)]\n",
        "finish_times = [int(input(f\"Enter finish time for activity {i + 1}: \")) for i in range(n)]\n",
        "\n",
        "# Find the maximum set of non-overlapping activities\n",
        "selected_activities = max_activities(start_times, finish_times)\n",
        "\n",
        "# Output: Display the selected activities\n",
        "print(\"\\nSelected Activities:\")\n",
        "for activity in selected_activities:\n",
        "    print(f\"Activity starting at {activity[1]} and finishing at {activity[0]}\")\n"
      ],
      "metadata": {
        "colab": {
          "base_uri": "https://localhost:8080/"
        },
        "id": "v4XcIWT6D5Yt",
        "outputId": "a4597e1d-0088-4ce7-a085-66e4b67f30a7"
      },
      "execution_count": 19,
      "outputs": [
        {
          "output_type": "stream",
          "name": "stdout",
          "text": [
            "Enter the number of activities: 2\n",
            "Enter start time for activity 1: 2\n",
            "Enter start time for activity 2: 2\n",
            "Enter finish time for activity 1: 1\n",
            "Enter finish time for activity 2: 1\n",
            "\n",
            "Selected Activities:\n",
            "Activity starting at 2 and finishing at 1\n",
            "Activity starting at 2 and finishing at 1\n"
          ]
        }
      ]
    },
    {
      "cell_type": "markdown",
      "source": [
        "10. Given three stacks of the positive numbers, the task is to find the possible equal\n",
        "maximum sum of the stacks with the removal of top elements allowed. Stacks are\n",
        "represented as an array, and the first index of the array represent the top element of\n",
        "the stack.\n",
        "Input : stack1[] = { 3, 10}\n",
        "stack2[] = { 4, 5 }\n",
        "stack3[] = { 2, 1 }\n",
        "Output : 0\n",
        "Sum can only be equal after removing all elements\n",
        "from all stacks.\n"
      ],
      "metadata": {
        "id": "dwY9Id_ME1OB"
      }
    },
    {
      "cell_type": "code",
      "source": [
        "def equal_max_sum(stack1, stack2, stack3):\n",
        "    sum1, sum2, sum3 = sum(stack1), sum(stack2), sum(stack3)\n",
        "    top1, top2, top3 = 0, 0, 0\n",
        "\n",
        "    while True:\n",
        "        # If the sums are equal, return the sum\n",
        "        if sum1 == sum2 == sum3:\n",
        "            return sum1\n",
        "\n",
        "        # Find the stack with the maximum sum and remove its top element\n",
        "        if sum1 >= sum2 and sum1 >= sum3:\n",
        "            sum1 -= stack1[top1]\n",
        "            top1 += 1\n",
        "        elif sum2 >= sum1 and sum2 >= sum3:\n",
        "            sum2 -= stack2[top2]\n",
        "            top2 += 1\n",
        "        elif sum3 >= sum1 and sum3 >= sum2:\n",
        "            sum3 -= stack3[top3]\n",
        "            top3 += 1\n",
        "\n",
        "# Example: Input stacks\n",
        "stack1 = [3, 10]\n",
        "stack2 = [4, 5]\n",
        "stack3 = [2, 1]\n",
        "\n",
        "# Output: Find the possible equal maximum sum\n",
        "result = equal_max_sum(stack1, stack2, stack3)\n",
        "print(\"Equal Maximum Sum:\", result)\n"
      ],
      "metadata": {
        "colab": {
          "base_uri": "https://localhost:8080/"
        },
        "id": "DOKmXhlFEtua",
        "outputId": "64a25a7a-896e-47fb-df1d-41537b6a6549"
      },
      "execution_count": 20,
      "outputs": [
        {
          "output_type": "stream",
          "name": "stdout",
          "text": [
            "Equal Maximum Sum: 0\n"
          ]
        }
      ]
    },
    {
      "cell_type": "markdown",
      "source": [
        "11. You will be given two words word1 and word2, to find the minimum number of\n",
        "operations required to convert word1 to word2.\n",
        "You have the following 3 operations permitted on a word:"
      ],
      "metadata": {
        "id": "H8Pz91mtFLLM"
      }
    },
    {
      "cell_type": "code",
      "source": [
        "def min_operations(word1, word2):\n",
        "    m, n = len(word1), len(word2)\n",
        "\n",
        "    # Create a 2D array to store the minimum number of operations\n",
        "    dp = [[0] * (n + 1) for _ in range(m + 1)]\n",
        "\n",
        "    # Initialize the first row and column\n",
        "    for i in range(m + 1):\n",
        "        dp[i][0] = i\n",
        "    for j in range(n + 1):\n",
        "        dp[0][j] = j\n",
        "\n",
        "    # Fill in the DP array\n",
        "    for i in range(1, m + 1):\n",
        "        for j in range(1, n + 1):\n",
        "            if word1[i - 1] == word2[j - 1]:\n",
        "                dp[i][j] = dp[i - 1][j - 1]\n",
        "            else:\n",
        "                dp[i][j] = 1 + min(dp[i - 1][j],      # Delete\n",
        "                                  dp[i][j - 1],      # Insert\n",
        "                                  dp[i - 1][j - 1])  # Replace\n",
        "\n",
        "    # The bottom-right cell contains the minimum number of operations\n",
        "    return dp[m][n]\n",
        "\n",
        "# Example: Find the minimum number of operations to convert \"horse\" to \"ros\"\n",
        "word1 = \"horse\"\n",
        "word2 = \"ros\"\n",
        "result = min_operations(word1, word2)\n",
        "print(f\"Minimum number of operations: {result}\")"
      ],
      "metadata": {
        "colab": {
          "base_uri": "https://localhost:8080/"
        },
        "id": "XQEQ8zJKFEhV",
        "outputId": "cf492226-c25d-419c-9d58-c8dc6ec1a036"
      },
      "execution_count": 21,
      "outputs": [
        {
          "output_type": "stream",
          "name": "stdout",
          "text": [
            "Minimum number of operations: 3\n"
          ]
        }
      ]
    },
    {
      "cell_type": "code",
      "source": [],
      "metadata": {
        "id": "RO0yDWbpFUCv"
      },
      "execution_count": null,
      "outputs": []
    }
  ]
}